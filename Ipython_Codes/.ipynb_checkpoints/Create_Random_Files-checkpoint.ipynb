{
 "cells": [
  {
   "cell_type": "code",
   "execution_count": 1,
   "metadata": {
    "collapsed": true
   },
   "outputs": [],
   "source": [
    "import pandas as pd\n",
    "import numpy as np"
   ]
  },
  {
   "cell_type": "code",
   "execution_count": 2,
   "metadata": {},
   "outputs": [],
   "source": [
    "#loading the name of patient files as per view\n",
    "A4C=pd.read_excel('/data/Gurpreet/Echo/Excel_Files/View_point_22062017.xlsx', sheetname='A4C', header=0)\n",
    "A2C=pd.read_excel('/data/Gurpreet/Echo/Excel_Files/View_point_22062017.xlsx', sheetname='A2C', header=0)\n",
    "PLA=pd.read_excel('/data/Gurpreet/Echo/Excel_Files/View_point_22062017.xlsx', sheetname='PLA', header=0)"
   ]
  },
  {
   "cell_type": "code",
   "execution_count": 3,
   "metadata": {
    "collapsed": true
   },
   "outputs": [],
   "source": [
    "#Shuffles with index not dropped\n",
    "#shuffled_A4C=A4C.iloc[np.random.permutation(len(A4C))]\n",
    "#shuffled_A2C=A2C.iloc[np.random.permutation(len(A2C))]\n",
    "#shuffled_PLA=PLA.iloc[np.random.permutation(len(PLA))]"
   ]
  },
  {
   "cell_type": "code",
   "execution_count": 4,
   "metadata": {},
   "outputs": [],
   "source": [
    "#Shuffles with index dropped\n",
    "Shuffled_A4C=A4C.sample(frac=1).reset_index(drop=True)\n",
    "Shuffled_A2C=A2C.sample(frac=1).reset_index(drop=True)\n",
    "Shuffled_PLA=PLA.sample(frac=1).reset_index(drop=True)"
   ]
  },
  {
   "cell_type": "code",
   "execution_count": null,
   "metadata": {
    "collapsed": true
   },
   "outputs": [],
   "source": []
  }
 ],
 "metadata": {
  "kernelspec": {
   "display_name": "P27",
   "language": "python",
   "name": "p27"
  },
  "language_info": {
   "codemirror_mode": {
    "name": "ipython",
    "version": 2
   },
   "file_extension": ".py",
   "mimetype": "text/x-python",
   "name": "python",
   "nbconvert_exporter": "python",
   "pygments_lexer": "ipython2",
   "version": "2.7.6"
  }
 },
 "nbformat": 4,
 "nbformat_minor": 2
}
