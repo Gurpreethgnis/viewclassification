{
 "cells": [
  {
   "cell_type": "code",
   "execution_count": null,
   "metadata": {},
   "outputs": [
    {
     "name": "stdout",
     "output_type": "stream",
     "text": [
      "here\n",
      "{'test': 5786, 'train': 20224, 'val': 2950}\n",
      "('Epoch = ', 0)\n",
      "('lr = ', 0.1)\n"
     ]
    }
   ],
   "source": [
    "from torchvision import datasets,models,transforms\n",
    "import torch.nn as nn\n",
    "from nndev import model_pip,sample_data\n",
    "CUDA_LAUNCH_BLOCKING=1 \n",
    "\n",
    "for j in xrange(0,1):\n",
    "    k=j+1\n",
    "    setnumber=\"SET\"+str(k)\n",
    "    datapath=\"/data/Gurpreet/RUNS/VC_10/\"+setnumber+\"/dataset/\"\n",
    "    savepath=\"/data/Gurpreet/RUNS/VC_10/\"+setnumber+\"/ResNetModel_Scratch.pth.tar\"\n",
    "    res = models.resnet18(pretrained=False)\n",
    "    res.fc = nn.Linear(res.fc.in_features,7)\n",
    "    obj = model_pip(model_in=res,scale=True,batch_size=100,use_gpu=True,gpu=3,data_path=datapath,lr=0.1)\n",
    "    model = obj.train_model(epochs=200)\n",
    "    obj.store_model(f_name=savepath)"
   ]
  }
 ],
 "metadata": {
  "kernelspec": {
   "display_name": "P27",
   "language": "python",
   "name": "p27"
  },
  "language_info": {
   "codemirror_mode": {
    "name": "ipython",
    "version": 2
   },
   "file_extension": ".py",
   "mimetype": "text/x-python",
   "name": "python",
   "nbconvert_exporter": "python",
   "pygments_lexer": "ipython2",
   "version": "2.7.6"
  }
 },
 "nbformat": 4,
 "nbformat_minor": 2
}
