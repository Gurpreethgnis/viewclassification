{
 "cells": [
  {
   "cell_type": "code",
   "execution_count": 2,
   "metadata": {
    "collapsed": false
   },
   "outputs": [],
   "source": [
    "import matplotlib.pyplot as plt\n",
    "\n",
    "import  torch.utils.data as data_utils\n",
    "import torch\n",
    "import torch.nn as nn\n",
    "from torchvision.models import inception\n",
    "from torchvision.models import Inception3\n",
    "import numpy as np\n",
    "from torch.autograd import Variable\n",
    "import torch.nn.functional as F\n",
    "\n",
    "from torchvision import datasets,models,transforms\n",
    "import torch.optim as optim\n",
    "\n",
    "from os import path\n",
    "import numpy as np\n",
    "import random\n",
    "import gc\n",
    "\n",
    "import copy\n",
    "import torch\n",
    "import numpy as np\n",
    "from torch.autograd import Variable\n",
    "import sys\n",
    "import os\n",
    "import scipy\n",
    "import cv2\n",
    "from PIL import Image\n",
    "from nndev import model_pip\n",
    "import data"
   ]
  },
  {
   "cell_type": "code",
   "execution_count": 29,
   "metadata": {
    "collapsed": false
   },
   "outputs": [],
   "source": [
    "pat_num = []\n",
    "count=0\n",
    "all_im_name = []\n",
    "for i,j,k in os.walk('/storage/gabriel/VC/Normal_Images/'):\n",
    "    #print(k)\n",
    "    count+=1\n",
    "    if(len(k)>1):\n",
    "        all_im_name+=k\n",
    "    for l in k:\n",
    "        #all_im_name+=k\n",
    "        #print(k)\n",
    "        temp = l.find('EQo_')+4\n",
    "        temp2 = l[temp:].find('_')+temp\n",
    "        if(l[temp:temp2] not in pat_num):\n",
    "            \n",
    "            pat_num.append(l[temp:temp2])\n"
   ]
  },
  {
   "cell_type": "code",
   "execution_count": 30,
   "metadata": {
    "collapsed": false
   },
   "outputs": [
    {
     "name": "stdout",
     "output_type": "stream",
     "text": [
      "['31', '61', '102', '22', '95', '40', '78', '1', '32', '57', '41', '97', '35', '98', '100', '67', '94', '76', '62', '46', '80', '54', '92', '85', '38', '82', '17', '88']\n"
     ]
    }
   ],
   "source": [
    "print(pat_num)"
   ]
  },
  {
   "cell_type": "code",
   "execution_count": 31,
   "metadata": {
    "collapsed": false
   },
   "outputs": [
    {
     "data": {
      "text/plain": [
       "['EQo_31_1_8.jpg',\n",
       " 'EQo_61_2_3.jpg',\n",
       " 'EQo_102_9_14.jpg',\n",
       " 'EQo_22_1_45.jpg',\n",
       " 'EQo_61_1_48.jpg',\n",
       " 'EQo_95_9_7.jpg',\n",
       " 'EQo_40_6_6.jpg',\n",
       " 'EQo_78_1_23.jpg',\n",
       " 'EQo_1_1_33.jpg',\n",
       " 'EQo_32_1_5.jpg',\n",
       " 'EQo_57_6_29.jpg',\n",
       " 'EQo_78_13_16.jpg',\n",
       " 'EQo_41_8_43.jpg',\n",
       " 'EQo_97_7_44.jpg',\n",
       " 'EQo_35_6_3.jpg',\n",
       " 'EQo_102_9_18.jpg',\n",
       " 'EQo_98_8_29.jpg',\n",
       " 'EQo_100_2_8.jpg',\n",
       " 'EQo_41_11_14.jpg',\n",
       " 'EQo_67_2_53.jpg',\n",
       " 'EQo_1_1_32.jpg',\n",
       " 'EQo_95_6_23.jpg',\n",
       " 'EQo_22_2_7.jpg',\n",
       " 'EQo_94_6_34.jpg',\n",
       " 'EQo_98_2_53.jpg',\n",
       " 'EQo_61_2_62.jpg',\n",
       " 'EQo_35_6_25.jpg',\n",
       " 'EQo_1_8_19.jpg',\n",
       " 'EQo_76_9_15.jpg',\n",
       " 'EQo_41_2_42.jpg',\n",
       " 'EQo_97_7_26.jpg',\n",
       " 'EQo_61_6_36.jpg',\n",
       " 'EQo_95_2_19.jpg',\n",
       " 'EQo_41_2_38.jpg',\n",
       " 'EQo_41_11_10.jpg',\n",
       " 'EQo_98_8_43.jpg',\n",
       " 'EQo_94_1_34.jpg',\n",
       " 'EQo_62_6_31.jpg',\n",
       " 'EQo_40_2_36.jpg',\n",
       " 'EQo_67_2_16.jpg',\n",
       " 'EQo_57_2_34.jpg',\n",
       " 'EQo_97_3_44.jpg',\n",
       " 'EQo_46_2_30.jpg',\n",
       " 'EQo_22_3_29.jpg',\n",
       " 'EQo_61_1_3.jpg',\n",
       " 'EQo_95_8_6.jpg',\n",
       " 'EQo_1_1_6.jpg',\n",
       " 'EQo_80_1_23.jpg',\n",
       " 'EQo_102_2_15.jpg',\n",
       " 'EQo_102_9_21.jpg',\n",
       " 'EQo_97_3_31.jpg',\n",
       " 'EQo_41_2_34.jpg',\n",
       " 'EQo_54_5_10.jpg',\n",
       " 'EQo_31_2_6.jpg',\n",
       " 'EQo_98_2_30.jpg',\n",
       " 'EQo_95_1_36.jpg',\n",
       " 'EQo_22_2_5.jpg',\n",
       " 'EQo_22_3_8.jpg',\n",
       " 'EQo_41_2_24.jpg',\n",
       " 'EQo_95_6_10.jpg',\n",
       " 'EQo_61_1_4.jpg',\n",
       " 'EQo_46_1_25.jpg',\n",
       " 'EQo_57_1_8.jpg',\n",
       " 'EQo_95_1_34.jpg',\n",
       " 'EQo_62_2_38.jpg',\n",
       " 'EQo_94_8_17.jpg',\n",
       " 'EQo_76_2_8.jpg',\n",
       " 'EQo_97_1_1.jpg',\n",
       " 'EQo_40_10_27.jpg',\n",
       " 'EQo_98_2_41.jpg',\n",
       " 'EQo_100_2_32.jpg',\n",
       " 'EQo_62_2_26.jpg',\n",
       " 'EQo_102_1_10.jpg',\n",
       " 'EQo_61_10_24.jpg',\n",
       " 'EQo_67_1_10.jpg',\n",
       " 'EQo_95_9_42.jpg',\n",
       " 'EQo_41_1_39.jpg',\n",
       " 'EQo_80_2_10.jpg',\n",
       " 'EQo_67_3_8.jpg',\n",
       " 'EQo_32_1_41.jpg',\n",
       " 'EQo_46_2_14.jpg',\n",
       " 'EQo_40_8_41.jpg',\n",
       " 'EQo_98_8_28.jpg',\n",
       " 'EQo_97_3_7.jpg',\n",
       " 'EQo_54_5_7.jpg',\n",
       " 'EQo_61_2_44.jpg',\n",
       " 'EQo_98_8_13.jpg',\n",
       " 'EQo_92_7_53.jpg',\n",
       " 'EQo_46_6_7.jpg',\n",
       " 'EQo_92_1_26.jpg',\n",
       " 'EQo_22_2_45.jpg',\n",
       " 'EQo_31_1_46.jpg',\n",
       " 'EQo_67_2_25.jpg',\n",
       " 'EQo_62_2_20.jpg',\n",
       " 'EQo_62_1_35.jpg',\n",
       " 'EQo_54_1_5.jpg',\n",
       " 'EQo_94_6_30.jpg',\n",
       " 'EQo_78_2_26.jpg',\n",
       " 'EQo_46_1_16.jpg',\n",
       " 'EQo_40_9_27.jpg',\n",
       " 'EQo_62_6_40.jpg',\n",
       " 'EQo_40_1_1.jpg',\n",
       " 'EQo_22_1_23.jpg',\n",
       " 'EQo_97_1_31.jpg',\n",
       " 'EQo_95_1_29.jpg',\n",
       " 'EQo_41_1_28.jpg',\n",
       " 'EQo_40_2_35.jpg',\n",
       " 'EQo_80_9_7.jpg',\n",
       " 'EQo_46_1_47.jpg',\n",
       " 'EQo_57_6_18.jpg',\n",
       " 'EQo_67_1_25.jpg',\n",
       " 'EQo_31_1_51.jpg',\n",
       " 'EQo_67_2_17.jpg',\n",
       " 'EQo_102_2_9.jpg',\n",
       " 'EQo_41_6_35.jpg',\n",
       " 'EQo_78_13_32.jpg',\n",
       " 'EQo_100_1_27.jpg',\n",
       " 'EQo_92_7_18.jpg',\n",
       " 'EQo_54_5_21.jpg',\n",
       " 'EQo_94_6_7.jpg',\n",
       " 'EQo_40_6_7.jpg',\n",
       " 'EQo_62_6_7.jpg',\n",
       " 'EQo_40_6_32.jpg',\n",
       " 'EQo_54_1_38.jpg',\n",
       " 'EQo_22_10_31.jpg',\n",
       " 'EQo_92_7_19.jpg',\n",
       " 'EQo_85_1_7.jpg',\n",
       " 'EQo_40_6_2.jpg',\n",
       " 'EQo_61_10_2.jpg',\n",
       " 'EQo_76_1_8.jpg',\n",
       " 'EQo_22_1_29.jpg',\n",
       " 'EQo_38_3_21.jpg',\n",
       " 'EQo_97_7_16.jpg',\n",
       " 'EQo_67_7_42.jpg',\n",
       " 'EQo_82_1_10.jpg',\n",
       " 'EQo_76_2_13.jpg',\n",
       " 'EQo_62_6_32.jpg',\n",
       " 'EQo_61_8_52.jpg',\n",
       " 'EQo_61_10_29.jpg',\n",
       " 'EQo_1_1_11.jpg',\n",
       " 'EQo_102_9_10.jpg',\n",
       " 'EQo_95_2_6.jpg',\n",
       " 'EQo_97_7_38.jpg',\n",
       " 'EQo_41_8_42.jpg',\n",
       " 'EQo_67_2_51.jpg',\n",
       " 'EQo_85_1_6.jpg',\n",
       " 'EQo_95_1_12.jpg',\n",
       " 'EQo_54_5_25.jpg',\n",
       " 'EQo_67_11_23.jpg',\n",
       " 'EQo_67_11_37.jpg',\n",
       " 'EQo_17_2_6.jpg',\n",
       " 'EQo_61_2_40.jpg',\n",
       " 'EQo_46_6_4.jpg',\n",
       " 'EQo_61_6_31.jpg',\n",
       " 'EQo_41_8_51.jpg',\n",
       " 'EQo_94_8_29.jpg',\n",
       " 'EQo_35_2_28.jpg',\n",
       " 'EQo_76_3_2.jpg',\n",
       " 'EQo_35_6_21.jpg',\n",
       " 'EQo_46_2_12.jpg',\n",
       " 'EQo_78_9_12.jpg',\n",
       " 'EQo_22_1_46.jpg',\n",
       " 'EQo_31_1_31.jpg',\n",
       " 'EQo_17_1_16.jpg',\n",
       " 'EQo_46_6_22.jpg',\n",
       " 'EQo_62_6_34.jpg',\n",
       " 'EQo_61_10_60.jpg',\n",
       " 'EQo_22_3_37.jpg',\n",
       " 'EQo_67_11_10.jpg',\n",
       " 'EQo_95_9_47.jpg',\n",
       " 'EQo_61_6_3.jpg',\n",
       " 'EQo_67_7_29.jpg',\n",
       " 'EQo_22_2_35.jpg',\n",
       " 'EQo_40_10_9.jpg',\n",
       " 'EQo_22_3_5.jpg',\n",
       " 'EQo_32_1_29.jpg',\n",
       " 'EQo_92_1_11.jpg',\n",
       " 'EQo_98_2_22.jpg',\n",
       " 'EQo_80_1_28.jpg',\n",
       " 'EQo_61_1_13.jpg',\n",
       " 'EQo_62_1_38.jpg',\n",
       " 'EQo_61_1_28.jpg',\n",
       " 'EQo_78_13_8.jpg',\n",
       " 'EQo_41_2_7.jpg',\n",
       " 'EQo_94_1_41.jpg',\n",
       " 'EQo_97_2_37.jpg',\n",
       " 'EQo_32_1_4.jpg',\n",
       " 'EQo_41_8_12.jpg',\n",
       " 'EQo_32_1_33.jpg',\n",
       " 'EQo_22_3_53.jpg',\n",
       " 'EQo_80_9_32.jpg',\n",
       " 'EQo_35_1_18.jpg',\n",
       " 'EQo_76_6_1.jpg',\n",
       " 'EQo_40_2_3.jpg',\n",
       " 'EQo_62_1_18.jpg',\n",
       " 'EQo_41_8_35.jpg',\n",
       " 'EQo_40_8_17.jpg',\n",
       " 'EQo_78_1_37.jpg',\n",
       " 'EQo_61_1_36.jpg',\n",
       " 'EQo_67_11_38.jpg',\n",
       " 'EQo_97_2_57.jpg',\n",
       " 'EQo_95_9_13.jpg',\n",
       " 'EQo_94_10_1.jpg',\n",
       " 'EQo_41_2_15.jpg',\n",
       " 'EQo_100_1_14.jpg',\n",
       " 'EQo_88_1_12.jpg',\n",
       " 'EQo_97_9_55.jpg',\n",
       " 'EQo_76_9_30.jpg',\n",
       " 'EQo_76_2_14.jpg',\n",
       " 'EQo_76_1_4.jpg',\n",
       " 'EQo_88_1_29.jpg',\n",
       " 'EQo_94_1_4.jpg',\n",
       " 'EQo_62_2_23.jpg',\n",
       " 'EQo_40_1_18.jpg',\n",
       " 'EQo_97_9_25.jpg',\n",
       " 'EQo_40_1_12.jpg',\n",
       " 'EQo_80_1_40.jpg',\n",
       " 'EQo_41_8_18.jpg',\n",
       " 'EQo_46_2_16.jpg',\n",
       " 'EQo_46_1_13.jpg',\n",
       " 'EQo_67_3_10.jpg',\n",
       " 'EQo_97_9_5.jpg',\n",
       " 'EQo_95_1_35.jpg',\n",
       " 'EQo_76_9_32.jpg',\n",
       " 'EQo_62_2_13.jpg',\n",
       " 'EQo_67_1_37.jpg',\n",
       " 'EQo_76_6_25.jpg',\n",
       " 'EQo_95_9_1.jpg',\n",
       " 'EQo_98_2_34.jpg',\n",
       " 'EQo_38_1_15.jpg',\n",
       " 'EQo_80_9_19.jpg',\n",
       " 'EQo_40_6_1.jpg',\n",
       " 'EQo_82_1_21.jpg',\n",
       " 'EQo_57_2_25.jpg',\n",
       " 'EQo_46_1_1.jpg',\n",
       " 'EQo_94_10_42.jpg',\n",
       " 'EQo_22_3_38.jpg',\n",
       " 'EQo_94_1_24.jpg',\n",
       " 'EQo_46_2_43.jpg',\n",
       " 'EQo_61_1_42.jpg',\n",
       " 'EQo_97_9_23.jpg',\n",
       " 'EQo_78_1_8.jpg',\n",
       " 'EQo_46_6_45.jpg',\n",
       " 'EQo_98_9_40.jpg',\n",
       " 'EQo_40_9_17.jpg',\n",
       " 'EQo_62_6_2.jpg',\n",
       " 'EQo_92_7_20.jpg',\n",
       " 'EQo_95_9_43.jpg',\n",
       " 'EQo_31_67_28.jpg',\n",
       " 'EQo_22_3_43.jpg',\n",
       " 'EQo_38_1_18.jpg',\n",
       " 'EQo_95_6_34.jpg',\n",
       " 'EQo_31_67_1.jpg',\n",
       " 'EQo_46_2_34.jpg',\n",
       " 'EQo_95_8_32.jpg',\n",
       " 'EQo_100_2_20.jpg',\n",
       " 'EQo_67_1_24.jpg',\n",
       " 'EQo_92_7_27.jpg',\n",
       " 'EQo_94_8_40.jpg',\n",
       " 'EQo_62_6_11.jpg',\n",
       " 'EQo_31_67_42.jpg',\n",
       " 'EQo_98_9_4.jpg',\n",
       " 'EQo_94_8_31.jpg',\n",
       " 'EQo_41_6_49.jpg',\n",
       " 'EQo_61_1_9.jpg',\n",
       " 'EQo_41_1_16.jpg',\n",
       " 'EQo_22_3_21.jpg',\n",
       " 'EQo_92_1_22.jpg',\n",
       " 'EQo_97_3_48.jpg',\n",
       " 'EQo_31_1_17.jpg',\n",
       " 'EQo_61_2_57.jpg',\n",
       " 'EQo_78_13_7.jpg',\n",
       " 'EQo_35_1_33.jpg',\n",
       " 'EQo_46_2_22.jpg',\n",
       " 'EQo_1_8_16.jpg',\n",
       " 'EQo_32_1_20.jpg',\n",
       " 'EQo_1_1_10.jpg',\n",
       " 'EQo_38_2_16.jpg',\n",
       " 'EQo_67_2_54.jpg',\n",
       " 'EQo_95_9_8.jpg',\n",
       " 'EQo_46_2_7.jpg',\n",
       " 'EQo_1_8_35.jpg',\n",
       " 'EQo_102_9_1.jpg',\n",
       " 'EQo_82_1_2.jpg',\n",
       " 'EQo_67_3_4.jpg',\n",
       " 'EQo_40_1_29.jpg',\n",
       " 'EQo_57_1_4.jpg',\n",
       " 'EQo_80_2_49.jpg',\n",
       " 'EQo_95_1_42.jpg',\n",
       " 'EQo_100_1_34.jpg',\n",
       " 'EQo_78_2_20.jpg',\n",
       " 'EQo_100_2_48.jpg',\n",
       " 'EQo_67_7_10.jpg',\n",
       " 'EQo_82_1_4.jpg',\n",
       " 'EQo_78_13_21.jpg',\n",
       " 'EQo_78_2_37.jpg',\n",
       " 'EQo_98_9_42.jpg',\n",
       " 'EQo_92_7_29.jpg',\n",
       " 'EQo_94_8_20.jpg',\n",
       " 'EQo_67_7_13.jpg',\n",
       " 'EQo_92_1_3.jpg',\n",
       " 'EQo_22_2_11.jpg',\n",
       " 'EQo_95_6_13.jpg',\n",
       " 'EQo_78_9_28.jpg',\n",
       " 'EQo_41_8_16.jpg',\n",
       " 'EQo_67_11_5.jpg',\n",
       " 'EQo_61_2_2.jpg',\n",
       " 'EQo_76_2_18.jpg',\n",
       " 'EQo_31_67_13.jpg',\n",
       " 'EQo_40_6_27.jpg',\n",
       " 'EQo_22_2_19.jpg',\n",
       " 'EQo_57_2_31.jpg',\n",
       " 'EQo_32_1_18.jpg',\n",
       " 'EQo_100_2_4.jpg',\n",
       " 'EQo_97_3_32.jpg',\n",
       " 'EQo_98_2_2.jpg',\n",
       " 'EQo_97_9_6.jpg',\n",
       " 'EQo_98_1_2.jpg',\n",
       " 'EQo_38_1_20.jpg',\n",
       " 'EQo_31_1_13.jpg',\n",
       " 'EQo_17_1_17.jpg',\n",
       " 'EQo_35_1_22.jpg',\n",
       " 'EQo_35_6_1.jpg',\n",
       " 'EQo_62_2_17.jpg',\n",
       " 'EQo_76_3_16.jpg',\n",
       " 'EQo_97_7_37.jpg',\n",
       " 'EQo_35_1_23.jpg',\n",
       " 'EQo_54_1_25.jpg',\n",
       " 'EQo_22_2_9.jpg',\n",
       " 'EQo_41_6_44.jpg',\n",
       " 'EQo_61_8_15.jpg',\n",
       " 'EQo_57_1_10.jpg',\n",
       " 'EQo_22_3_54.jpg',\n",
       " 'EQo_38_3_20.jpg',\n",
       " 'EQo_17_1_6.jpg',\n",
       " 'EQo_54_1_28.jpg',\n",
       " 'EQo_78_9_31.jpg',\n",
       " 'EQo_67_1_31.jpg',\n",
       " 'EQo_35_6_27.jpg',\n",
       " 'EQo_95_8_37.jpg',\n",
       " 'EQo_1_1_39.jpg',\n",
       " 'EQo_97_7_50.jpg',\n",
       " 'EQo_80_1_53.jpg',\n",
       " 'EQo_61_2_19.jpg',\n",
       " 'EQo_40_9_3.jpg',\n",
       " 'EQo_85_1_15.jpg',\n",
       " 'EQo_40_2_32.jpg',\n",
       " 'EQo_67_1_20.jpg',\n",
       " 'EQo_40_8_18.jpg',\n",
       " 'EQo_31_1_38.jpg',\n",
       " 'EQo_61_6_17.jpg',\n",
       " 'EQo_98_1_18.jpg',\n",
       " 'EQo_80_9_27.jpg',\n",
       " 'EQo_62_6_22.jpg',\n",
       " 'EQo_1_8_25.jpg',\n",
       " 'EQo_98_1_39.jpg',\n",
       " 'EQo_22_1_43.jpg',\n",
       " 'EQo_40_10_8.jpg',\n",
       " 'EQo_38_1_6.jpg',\n",
       " 'EQo_40_10_22.jpg',\n",
       " 'EQo_92_7_12.jpg',\n",
       " 'EQo_100_1_53.jpg',\n",
       " 'EQo_97_9_47.jpg',\n",
       " 'EQo_67_3_1.jpg',\n",
       " 'EQo_97_1_10.jpg',\n",
       " 'EQo_17_2_9.jpg',\n",
       " 'EQo_35_1_4.jpg',\n",
       " 'EQo_80_1_1.jpg',\n",
       " 'EQo_94_2_30.jpg',\n",
       " 'EQo_41_2_12.jpg',\n",
       " 'EQo_67_7_32.jpg',\n",
       " 'EQo_78_1_9.jpg',\n",
       " 'EQo_46_2_27.jpg',\n",
       " 'EQo_41_2_9.jpg',\n",
       " 'EQo_78_2_38.jpg',\n",
       " 'EQo_17_1_9.jpg',\n",
       " 'EQo_97_3_49.jpg',\n",
       " 'EQo_98_9_45.jpg',\n",
       " 'EQo_78_13_40.jpg',\n",
       " 'EQo_22_10_47.jpg',\n",
       " 'EQo_31_2_28.jpg',\n",
       " 'EQo_94_1_20.jpg',\n",
       " 'EQo_31_1_6.jpg',\n",
       " 'EQo_95_1_50.jpg',\n",
       " 'EQo_98_2_25.jpg',\n",
       " 'EQo_95_1_45.jpg',\n",
       " 'EQo_31_1_36.jpg',\n",
       " 'EQo_41_6_40.jpg',\n",
       " 'EQo_32_1_36.jpg',\n",
       " 'EQo_94_10_26.jpg',\n",
       " 'EQo_38_2_4.jpg',\n",
       " 'EQo_35_6_30.jpg',\n",
       " 'EQo_67_7_12.jpg',\n",
       " 'EQo_95_9_27.jpg',\n",
       " 'EQo_78_9_10.jpg',\n",
       " 'EQo_40_10_29.jpg',\n",
       " 'EQo_67_11_35.jpg',\n",
       " 'EQo_62_6_33.jpg',\n",
       " 'EQo_41_2_43.jpg',\n",
       " 'EQo_92_1_14.jpg',\n",
       " 'EQo_92_1_30.jpg',\n",
       " 'EQo_41_2_37.jpg',\n",
       " 'EQo_41_1_44.jpg',\n",
       " 'EQo_22_3_27.jpg',\n",
       " 'EQo_94_10_15.jpg',\n",
       " 'EQo_98_1_20.jpg',\n",
       " 'EQo_31_67_47.jpg',\n",
       " 'EQo_41_6_34.jpg',\n",
       " 'EQo_78_13_31.jpg',\n",
       " 'EQo_97_1_40.jpg',\n",
       " 'EQo_97_3_62.jpg',\n",
       " 'EQo_41_8_21.jpg',\n",
       " 'EQo_31_2_36.jpg',\n",
       " 'EQo_67_1_5.jpg',\n",
       " 'EQo_67_3_5.jpg',\n",
       " 'EQo_97_3_20.jpg',\n",
       " 'EQo_95_8_31.jpg',\n",
       " 'EQo_94_2_38.jpg',\n",
       " 'EQo_76_1_33.jpg',\n",
       " 'EQo_1_1_37.jpg',\n",
       " 'EQo_80_2_55.jpg',\n",
       " 'EQo_61_2_32.jpg',\n",
       " 'EQo_40_10_38.jpg',\n",
       " 'EQo_98_8_11.jpg',\n",
       " 'EQo_95_8_29.jpg',\n",
       " 'EQo_67_1_13.jpg',\n",
       " 'EQo_1_1_42.jpg',\n",
       " 'EQo_41_11_21.jpg',\n",
       " 'EQo_40_10_33.jpg',\n",
       " 'EQo_67_3_34.jpg',\n",
       " 'EQo_88_1_3.jpg',\n",
       " 'EQo_95_6_24.jpg',\n",
       " 'EQo_46_6_31.jpg',\n",
       " 'EQo_102_1_11.jpg',\n",
       " 'EQo_46_6_19.jpg',\n",
       " 'EQo_46_2_36.jpg',\n",
       " 'EQo_98_2_33.jpg',\n",
       " 'EQo_78_2_25.jpg',\n",
       " 'EQo_61_10_15.jpg',\n",
       " 'EQo_31_2_4.jpg',\n",
       " 'EQo_31_1_16.jpg',\n",
       " 'EQo_57_1_19.jpg',\n",
       " 'EQo_31_2_11.jpg',\n",
       " 'EQo_61_10_13.jpg',\n",
       " 'EQo_97_9_30.jpg',\n",
       " 'EQo_98_9_49.jpg',\n",
       " 'EQo_38_3_4.jpg',\n",
       " 'EQo_67_3_13.jpg',\n",
       " 'EQo_54_5_20.jpg',\n",
       " 'EQo_22_3_13.jpg',\n",
       " 'EQo_35_6_24.jpg',\n",
       " 'EQo_41_8_17.jpg',\n",
       " 'EQo_92_1_45.jpg',\n",
       " 'EQo_80_1_58.jpg',\n",
       " 'EQo_100_2_22.jpg',\n",
       " 'EQo_32_1_13.jpg',\n",
       " 'EQo_100_2_24.jpg',\n",
       " 'EQo_97_1_4.jpg',\n",
       " 'EQo_67_7_34.jpg',\n",
       " 'EQo_31_2_37.jpg',\n",
       " 'EQo_57_6_24.jpg',\n",
       " 'EQo_97_7_1.jpg',\n",
       " 'EQo_62_6_17.jpg',\n",
       " 'EQo_31_2_56.jpg',\n",
       " 'EQo_98_1_8.jpg',\n",
       " 'EQo_22_2_28.jpg',\n",
       " 'EQo_22_10_45.jpg',\n",
       " 'EQo_98_1_28.jpg',\n",
       " 'EQo_62_2_8.jpg',\n",
       " 'EQo_95_8_45.jpg',\n",
       " 'EQo_100_2_10.jpg',\n",
       " 'EQo_76_2_16.jpg',\n",
       " 'EQo_97_9_4.jpg',\n",
       " 'EQo_67_2_45.jpg',\n",
       " 'EQo_88_1_27.jpg',\n",
       " 'EQo_76_9_4.jpg',\n",
       " 'EQo_67_2_12.jpg',\n",
       " 'EQo_100_2_9.jpg',\n",
       " 'EQo_61_10_58.jpg',\n",
       " 'EQo_98_9_18.jpg',\n",
       " 'EQo_46_6_18.jpg',\n",
       " 'EQo_22_3_18.jpg',\n",
       " 'EQo_22_3_35.jpg',\n",
       " 'EQo_67_11_45.jpg',\n",
       " 'EQo_57_6_34.jpg',\n",
       " 'EQo_76_1_31.jpg',\n",
       " 'EQo_80_1_15.jpg',\n",
       " 'EQo_102_2_24.jpg',\n",
       " 'EQo_40_8_15.jpg',\n",
       " 'EQo_80_2_27.jpg',\n",
       " 'EQo_67_1_1.jpg',\n",
       " 'EQo_31_67_6.jpg',\n",
       " 'EQo_67_1_40.jpg',\n",
       " 'EQo_54_5_36.jpg',\n",
       " 'EQo_98_9_35.jpg',\n",
       " 'EQo_67_1_8.jpg',\n",
       " 'EQo_97_2_40.jpg',\n",
       " 'EQo_57_2_9.jpg',\n",
       " 'EQo_54_1_16.jpg',\n",
       " 'EQo_40_1_41.jpg',\n",
       " 'EQo_46_1_17.jpg',\n",
       " 'EQo_41_8_19.jpg',\n",
       " 'EQo_31_1_43.jpg',\n",
       " 'EQo_61_8_27.jpg',\n",
       " 'EQo_41_6_1.jpg',\n",
       " 'EQo_46_2_46.jpg',\n",
       " 'EQo_22_3_10.jpg',\n",
       " 'EQo_40_2_25.jpg',\n",
       " 'EQo_61_6_35.jpg',\n",
       " 'EQo_41_2_36.jpg',\n",
       " 'EQo_41_8_37.jpg',\n",
       " 'EQo_92_7_17.jpg',\n",
       " 'EQo_61_1_49.jpg',\n",
       " 'EQo_97_3_17.jpg',\n",
       " 'EQo_98_9_50.jpg',\n",
       " 'EQo_88_1_10.jpg',\n",
       " 'EQo_97_3_14.jpg',\n",
       " 'EQo_78_13_38.jpg',\n",
       " 'EQo_76_1_18.jpg',\n",
       " 'EQo_85_1_5.jpg',\n",
       " 'EQo_76_3_33.jpg',\n",
       " 'EQo_61_2_41.jpg',\n",
       " 'EQo_92_7_42.jpg',\n",
       " 'EQo_94_2_33.jpg',\n",
       " 'EQo_17_2_18.jpg',\n",
       " 'EQo_94_1_5.jpg',\n",
       " 'EQo_78_9_23.jpg',\n",
       " 'EQo_62_6_46.jpg',\n",
       " 'EQo_46_6_17.jpg',\n",
       " 'EQo_98_2_54.jpg',\n",
       " 'EQo_46_6_13.jpg',\n",
       " 'EQo_97_3_16.jpg',\n",
       " 'EQo_61_1_1.jpg',\n",
       " 'EQo_54_1_34.jpg',\n",
       " 'EQo_67_2_13.jpg',\n",
       " 'EQo_41_2_20.jpg',\n",
       " 'EQo_95_1_11.jpg',\n",
       " 'EQo_97_7_41.jpg',\n",
       " 'EQo_102_2_13.jpg',\n",
       " 'EQo_40_6_13.jpg',\n",
       " 'EQo_67_11_39.jpg',\n",
       " 'EQo_40_8_9.jpg',\n",
       " 'EQo_67_1_19.jpg',\n",
       " 'EQo_40_9_13.jpg',\n",
       " 'EQo_41_1_19.jpg',\n",
       " 'EQo_78_2_9.jpg',\n",
       " 'EQo_17_2_16.jpg',\n",
       " 'EQo_80_1_50.jpg',\n",
       " 'EQo_54_1_2.jpg',\n",
       " 'EQo_41_8_30.jpg',\n",
       " 'EQo_67_2_22.jpg',\n",
       " 'EQo_95_6_39.jpg',\n",
       " 'EQo_17_2_3.jpg',\n",
       " 'EQo_35_2_27.jpg',\n",
       " 'EQo_78_9_26.jpg',\n",
       " 'EQo_38_1_2.jpg',\n",
       " 'EQo_41_8_22.jpg',\n",
       " 'EQo_35_2_7.jpg',\n",
       " 'EQo_1_1_18.jpg',\n",
       " 'EQo_62_1_31.jpg',\n",
       " 'EQo_94_8_26.jpg',\n",
       " 'EQo_61_8_49.jpg',\n",
       " 'EQo_40_9_24.jpg',\n",
       " 'EQo_97_2_64.jpg',\n",
       " 'EQo_67_3_41.jpg',\n",
       " 'EQo_62_1_10.jpg',\n",
       " 'EQo_78_2_7.jpg',\n",
       " 'EQo_94_6_32.jpg',\n",
       " 'EQo_85_1_10.jpg',\n",
       " 'EQo_98_1_32.jpg',\n",
       " 'EQo_98_9_24.jpg',\n",
       " 'EQo_22_10_40.jpg',\n",
       " 'EQo_95_6_21.jpg',\n",
       " 'EQo_22_3_6.jpg',\n",
       " 'EQo_57_6_6.jpg',\n",
       " 'EQo_40_1_36.jpg',\n",
       " 'EQo_31_67_18.jpg',\n",
       " 'EQo_62_2_6.jpg',\n",
       " 'EQo_98_2_42.jpg',\n",
       " 'EQo_98_1_15.jpg',\n",
       " 'EQo_98_9_28.jpg',\n",
       " 'EQo_62_2_18.jpg',\n",
       " 'EQo_98_9_1.jpg',\n",
       " 'EQo_31_1_42.jpg',\n",
       " 'EQo_46_1_30.jpg',\n",
       " 'EQo_67_2_38.jpg',\n",
       " 'EQo_97_3_29.jpg',\n",
       " 'EQo_61_2_31.jpg',\n",
       " 'EQo_97_7_32.jpg',\n",
       " 'EQo_41_1_29.jpg',\n",
       " 'EQo_78_1_36.jpg',\n",
       " 'EQo_98_8_45.jpg',\n",
       " 'EQo_95_1_4.jpg',\n",
       " 'EQo_98_9_17.jpg',\n",
       " 'EQo_22_3_33.jpg',\n",
       " 'EQo_35_2_13.jpg',\n",
       " 'EQo_17_2_23.jpg',\n",
       " 'EQo_97_7_14.jpg',\n",
       " 'EQo_22_2_41.jpg',\n",
       " 'EQo_22_2_36.jpg',\n",
       " 'EQo_41_1_48.jpg',\n",
       " 'EQo_97_2_30.jpg',\n",
       " 'EQo_61_10_28.jpg',\n",
       " 'EQo_92_1_10.jpg',\n",
       " 'EQo_97_1_11.jpg',\n",
       " 'EQo_46_1_4.jpg',\n",
       " 'EQo_102_9_28.jpg',\n",
       " 'EQo_31_1_41.jpg',\n",
       " 'EQo_31_1_40.jpg',\n",
       " 'EQo_67_7_39.jpg',\n",
       " 'EQo_31_1_26.jpg',\n",
       " 'EQo_97_9_38.jpg',\n",
       " 'EQo_31_67_15.jpg',\n",
       " 'EQo_98_9_37.jpg',\n",
       " 'EQo_67_11_3.jpg',\n",
       " 'EQo_61_1_50.jpg',\n",
       " 'EQo_94_10_25.jpg',\n",
       " 'EQo_62_2_41.jpg',\n",
       " 'EQo_97_1_20.jpg',\n",
       " 'EQo_67_7_38.jpg',\n",
       " 'EQo_94_2_24.jpg',\n",
       " 'EQo_100_2_27.jpg',\n",
       " 'EQo_98_1_13.jpg',\n",
       " 'EQo_94_6_3.jpg',\n",
       " 'EQo_67_11_32.jpg',\n",
       " 'EQo_61_10_11.jpg',\n",
       " 'EQo_85_1_31.jpg',\n",
       " 'EQo_57_1_20.jpg',\n",
       " 'EQo_41_11_27.jpg',\n",
       " 'EQo_76_6_24.jpg',\n",
       " 'EQo_57_2_19.jpg',\n",
       " 'EQo_80_9_18.jpg',\n",
       " 'EQo_98_1_33.jpg',\n",
       " 'EQo_41_8_39.jpg',\n",
       " 'EQo_38_1_7.jpg',\n",
       " 'EQo_22_1_40.jpg',\n",
       " 'EQo_54_1_10.jpg',\n",
       " 'EQo_100_2_6.jpg',\n",
       " 'EQo_100_1_1.jpg',\n",
       " 'EQo_97_9_51.jpg',\n",
       " 'EQo_67_7_45.jpg',\n",
       " 'EQo_94_8_37.jpg',\n",
       " 'EQo_17_1_13.jpg',\n",
       " 'EQo_41_8_8.jpg',\n",
       " 'EQo_41_2_47.jpg',\n",
       " 'EQo_61_6_38.jpg',\n",
       " 'EQo_61_6_20.jpg',\n",
       " 'EQo_82_1_25.jpg',\n",
       " 'EQo_92_7_13.jpg',\n",
       " 'EQo_67_1_51.jpg',\n",
       " 'EQo_61_10_12.jpg',\n",
       " 'EQo_54_1_31.jpg',\n",
       " 'EQo_100_2_11.jpg',\n",
       " 'EQo_78_1_26.jpg',\n",
       " 'EQo_46_2_15.jpg',\n",
       " 'EQo_94_2_22.jpg',\n",
       " 'EQo_54_1_4.jpg',\n",
       " 'EQo_22_1_28.jpg',\n",
       " 'EQo_35_2_20.jpg',\n",
       " 'EQo_1_8_31.jpg',\n",
       " 'EQo_95_9_9.jpg',\n",
       " 'EQo_32_1_28.jpg',\n",
       " 'EQo_41_11_9.jpg',\n",
       " 'EQo_22_10_2.jpg',\n",
       " 'EQo_85_1_11.jpg',\n",
       " 'EQo_40_2_33.jpg',\n",
       " 'EQo_41_8_47.jpg',\n",
       " 'EQo_94_1_43.jpg',\n",
       " 'EQo_40_6_20.jpg',\n",
       " 'EQo_97_3_37.jpg',\n",
       " 'EQo_41_1_51.jpg',\n",
       " 'EQo_95_2_34.jpg',\n",
       " 'EQo_41_1_11.jpg',\n",
       " 'EQo_61_6_8.jpg',\n",
       " 'EQo_46_1_49.jpg',\n",
       " 'EQo_76_1_6.jpg',\n",
       " 'EQo_67_2_15.jpg',\n",
       " 'EQo_41_1_1.jpg',\n",
       " 'EQo_41_6_11.jpg',\n",
       " 'EQo_94_1_9.jpg',\n",
       " 'EQo_97_2_35.jpg',\n",
       " 'EQo_95_9_15.jpg',\n",
       " 'EQo_97_7_31.jpg',\n",
       " 'EQo_97_1_14.jpg',\n",
       " 'EQo_76_6_3.jpg',\n",
       " 'EQo_92_1_40.jpg',\n",
       " 'EQo_102_1_13.jpg',\n",
       " 'EQo_92_1_46.jpg',\n",
       " 'EQo_22_2_43.jpg',\n",
       " 'EQo_40_10_42.jpg',\n",
       " 'EQo_80_9_40.jpg',\n",
       " 'EQo_94_1_19.jpg',\n",
       " 'EQo_97_1_52.jpg',\n",
       " 'EQo_92_1_9.jpg',\n",
       " 'EQo_67_7_47.jpg',\n",
       " 'EQo_80_2_36.jpg',\n",
       " 'EQo_76_6_15.jpg',\n",
       " 'EQo_61_2_11.jpg',\n",
       " 'EQo_61_2_22.jpg',\n",
       " 'EQo_31_67_48.jpg',\n",
       " 'EQo_82_1_12.jpg',\n",
       " 'EQo_78_9_19.jpg',\n",
       " 'EQo_40_9_36.jpg',\n",
       " 'EQo_40_10_32.jpg',\n",
       " 'EQo_76_2_1.jpg',\n",
       " 'EQo_97_2_38.jpg',\n",
       " 'EQo_41_11_37.jpg',\n",
       " 'EQo_1_8_21.jpg',\n",
       " 'EQo_22_2_50.jpg',\n",
       " 'EQo_61_1_18.jpg',\n",
       " 'EQo_94_2_5.jpg',\n",
       " 'EQo_95_9_19.jpg',\n",
       " 'EQo_32_1_7.jpg',\n",
       " 'EQo_41_6_17.jpg',\n",
       " 'EQo_78_13_22.jpg',\n",
       " 'EQo_94_6_39.jpg',\n",
       " 'EQo_17_2_11.jpg',\n",
       " 'EQo_95_2_51.jpg',\n",
       " 'EQo_61_10_37.jpg',\n",
       " 'EQo_40_10_15.jpg',\n",
       " 'EQo_97_2_23.jpg',\n",
       " 'EQo_41_8_49.jpg',\n",
       " 'EQo_61_10_14.jpg',\n",
       " 'EQo_94_1_35.jpg',\n",
       " 'EQo_94_6_26.jpg',\n",
       " 'EQo_80_1_9.jpg',\n",
       " 'EQo_54_1_41.jpg',\n",
       " 'EQo_94_8_11.jpg',\n",
       " 'EQo_76_6_7.jpg',\n",
       " 'EQo_41_1_3.jpg',\n",
       " 'EQo_54_1_14.jpg',\n",
       " 'EQo_61_8_34.jpg',\n",
       " 'EQo_78_9_38.jpg',\n",
       " 'EQo_95_1_9.jpg',\n",
       " 'EQo_76_6_4.jpg',\n",
       " 'EQo_85_1_3.jpg',\n",
       " 'EQo_54_5_2.jpg',\n",
       " 'EQo_40_1_21.jpg',\n",
       " 'EQo_98_8_6.jpg',\n",
       " 'EQo_40_6_17.jpg',\n",
       " 'EQo_100_1_38.jpg',\n",
       " 'EQo_102_9_16.jpg',\n",
       " 'EQo_41_11_41.jpg',\n",
       " 'EQo_41_6_18.jpg',\n",
       " 'EQo_31_2_27.jpg',\n",
       " 'EQo_95_2_49.jpg',\n",
       " 'EQo_31_1_39.jpg',\n",
       " 'EQo_61_6_10.jpg',\n",
       " 'EQo_102_1_25.jpg',\n",
       " 'EQo_102_9_20.jpg',\n",
       " 'EQo_94_8_27.jpg',\n",
       " 'EQo_80_9_36.jpg',\n",
       " 'EQo_97_7_36.jpg',\n",
       " 'EQo_67_2_47.jpg',\n",
       " 'EQo_61_2_54.jpg',\n",
       " 'EQo_97_2_20.jpg',\n",
       " 'EQo_94_10_13.jpg',\n",
       " 'EQo_94_10_40.jpg',\n",
       " 'EQo_22_10_43.jpg',\n",
       " 'EQo_80_2_4.jpg',\n",
       " 'EQo_67_3_25.jpg',\n",
       " 'EQo_95_6_16.jpg',\n",
       " 'EQo_54_5_29.jpg',\n",
       " 'EQo_57_2_29.jpg',\n",
       " 'EQo_98_1_3.jpg',\n",
       " 'EQo_100_1_28.jpg',\n",
       " 'EQo_40_6_4.jpg',\n",
       " 'EQo_94_2_44.jpg',\n",
       " 'EQo_41_8_27.jpg',\n",
       " 'EQo_54_1_33.jpg',\n",
       " 'EQo_67_3_39.jpg',\n",
       " 'EQo_41_11_17.jpg',\n",
       " 'EQo_97_9_45.jpg',\n",
       " 'EQo_95_9_37.jpg',\n",
       " 'EQo_76_1_32.jpg',\n",
       " 'EQo_76_2_22.jpg',\n",
       " 'EQo_92_1_51.jpg',\n",
       " 'EQo_95_6_46.jpg',\n",
       " 'EQo_46_6_20.jpg',\n",
       " 'EQo_22_3_39.jpg',\n",
       " 'EQo_97_1_44.jpg',\n",
       " 'EQo_100_2_34.jpg',\n",
       " 'EQo_92_1_5.jpg',\n",
       " 'EQo_94_8_8.jpg',\n",
       " 'EQo_97_1_23.jpg',\n",
       " 'EQo_67_3_3.jpg',\n",
       " 'EQo_97_9_8.jpg',\n",
       " 'EQo_100_1_3.jpg',\n",
       " 'EQo_80_2_38.jpg',\n",
       " 'EQo_46_1_36.jpg',\n",
       " 'EQo_22_10_46.jpg',\n",
       " 'EQo_32_1_23.jpg',\n",
       " 'EQo_95_8_13.jpg',\n",
       " 'EQo_94_1_30.jpg',\n",
       " 'EQo_94_10_19.jpg',\n",
       " 'EQo_57_2_14.jpg',\n",
       " 'EQo_67_1_26.jpg',\n",
       " 'EQo_46_6_23.jpg',\n",
       " 'EQo_78_9_3.jpg',\n",
       " 'EQo_40_2_1.jpg',\n",
       " 'EQo_62_1_40.jpg',\n",
       " 'EQo_1_8_22.jpg',\n",
       " 'EQo_94_2_27.jpg',\n",
       " 'EQo_61_2_56.jpg',\n",
       " 'EQo_97_2_62.jpg',\n",
       " 'EQo_78_1_27.jpg',\n",
       " 'EQo_92_7_39.jpg',\n",
       " 'EQo_97_2_5.jpg',\n",
       " 'EQo_22_2_21.jpg',\n",
       " 'EQo_40_6_5.jpg',\n",
       " 'EQo_67_1_6.jpg',\n",
       " 'EQo_62_2_1.jpg',\n",
       " 'EQo_94_1_8.jpg',\n",
       " 'EQo_40_6_22.jpg',\n",
       " 'EQo_100_2_53.jpg',\n",
       " 'EQo_98_9_26.jpg',\n",
       " 'EQo_80_9_41.jpg',\n",
       " 'EQo_40_2_37.jpg',\n",
       " 'EQo_41_11_22.jpg',\n",
       " 'EQo_94_2_41.jpg',\n",
       " 'EQo_98_9_5.jpg',\n",
       " 'EQo_41_11_36.jpg',\n",
       " 'EQo_61_10_38.jpg',\n",
       " 'EQo_98_9_13.jpg',\n",
       " 'EQo_97_2_58.jpg',\n",
       " 'EQo_98_2_39.jpg',\n",
       " 'EQo_61_6_1.jpg',\n",
       " 'EQo_32_1_1.jpg',\n",
       " 'EQo_97_7_29.jpg',\n",
       " 'EQo_22_2_15.jpg',\n",
       " 'EQo_61_1_33.jpg',\n",
       " 'EQo_94_8_19.jpg',\n",
       " 'EQo_22_10_24.jpg',\n",
       " 'EQo_95_9_14.jpg',\n",
       " 'EQo_100_1_47.jpg',\n",
       " 'EQo_57_6_35.jpg',\n",
       " 'EQo_41_8_50.jpg',\n",
       " 'EQo_61_6_40.jpg',\n",
       " 'EQo_78_13_9.jpg',\n",
       " 'EQo_100_2_38.jpg',\n",
       " 'EQo_61_10_9.jpg',\n",
       " 'EQo_61_8_44.jpg',\n",
       " 'EQo_95_1_33.jpg',\n",
       " 'EQo_95_8_50.jpg',\n",
       " 'EQo_62_6_19.jpg',\n",
       " 'EQo_67_11_40.jpg',\n",
       " 'EQo_31_1_27.jpg',\n",
       " 'EQo_61_6_47.jpg',\n",
       " 'EQo_61_10_41.jpg',\n",
       " 'EQo_61_2_20.jpg',\n",
       " 'EQo_94_2_9.jpg',\n",
       " 'EQo_40_10_36.jpg',\n",
       " 'EQo_61_10_10.jpg',\n",
       " 'EQo_67_3_30.jpg',\n",
       " 'EQo_102_1_28.jpg',\n",
       " 'EQo_100_2_26.jpg',\n",
       " 'EQo_61_1_15.jpg',\n",
       " 'EQo_35_2_21.jpg',\n",
       " 'EQo_92_7_2.jpg',\n",
       " 'EQo_95_1_26.jpg',\n",
       " 'EQo_54_5_32.jpg',\n",
       " 'EQo_95_8_33.jpg',\n",
       " 'EQo_67_3_45.jpg',\n",
       " 'EQo_78_13_23.jpg',\n",
       " 'EQo_41_8_14.jpg',\n",
       " 'EQo_95_6_5.jpg',\n",
       " 'EQo_88_1_18.jpg',\n",
       " 'EQo_95_2_46.jpg',\n",
       " 'EQo_67_1_30.jpg',\n",
       " 'EQo_92_7_3.jpg',\n",
       " 'EQo_41_6_39.jpg',\n",
       " 'EQo_40_10_10.jpg',\n",
       " 'EQo_62_1_7.jpg',\n",
       " 'EQo_94_8_6.jpg',\n",
       " 'EQo_85_1_25.jpg',\n",
       " 'EQo_97_3_11.jpg',\n",
       " 'EQo_97_2_12.jpg',\n",
       " 'EQo_78_13_26.jpg',\n",
       " 'EQo_17_1_24.jpg',\n",
       " 'EQo_76_1_35.jpg',\n",
       " 'EQo_1_1_3.jpg',\n",
       " 'EQo_1_8_43.jpg',\n",
       " 'EQo_31_2_54.jpg',\n",
       " 'EQo_31_2_44.jpg',\n",
       " 'EQo_41_8_38.jpg',\n",
       " 'EQo_85_1_16.jpg',\n",
       " 'EQo_97_7_13.jpg',\n",
       " 'EQo_95_6_32.jpg',\n",
       " 'EQo_40_9_34.jpg',\n",
       " 'EQo_76_3_18.jpg',\n",
       " 'EQo_94_1_40.jpg',\n",
       " 'EQo_95_1_27.jpg',\n",
       " 'EQo_97_3_18.jpg',\n",
       " 'EQo_78_13_35.jpg',\n",
       " 'EQo_94_1_10.jpg',\n",
       " 'EQo_40_1_4.jpg',\n",
       " 'EQo_67_2_37.jpg',\n",
       " 'EQo_98_8_18.jpg',\n",
       " 'EQo_32_1_2.jpg',\n",
       " 'EQo_102_9_29.jpg',\n",
       " 'EQo_17_1_4.jpg',\n",
       " 'EQo_38_1_16.jpg',\n",
       " 'EQo_102_2_11.jpg',\n",
       " 'EQo_78_13_3.jpg',\n",
       " 'EQo_46_6_1.jpg',\n",
       " 'EQo_54_5_5.jpg',\n",
       " 'EQo_98_2_31.jpg',\n",
       " 'EQo_67_3_17.jpg',\n",
       " 'EQo_80_1_30.jpg',\n",
       " 'EQo_35_2_4.jpg',\n",
       " 'EQo_97_7_33.jpg',\n",
       " 'EQo_40_9_30.jpg',\n",
       " 'EQo_35_1_13.jpg',\n",
       " 'EQo_94_8_25.jpg',\n",
       " 'EQo_32_1_39.jpg',\n",
       " 'EQo_95_6_41.jpg',\n",
       " 'EQo_41_8_2.jpg',\n",
       " 'EQo_35_2_26.jpg',\n",
       " 'EQo_22_1_22.jpg',\n",
       " 'EQo_78_13_37.jpg',\n",
       " 'EQo_41_2_30.jpg',\n",
       " 'EQo_67_2_7.jpg',\n",
       " 'EQo_67_3_35.jpg',\n",
       " 'EQo_46_1_14.jpg',\n",
       " 'EQo_40_2_45.jpg',\n",
       " 'EQo_41_6_36.jpg',\n",
       " 'EQo_94_8_43.jpg',\n",
       " 'EQo_92_1_54.jpg',\n",
       " 'EQo_41_11_26.jpg',\n",
       " 'EQo_95_8_19.jpg',\n",
       " 'EQo_61_6_58.jpg',\n",
       " 'EQo_97_3_61.jpg',\n",
       " 'EQo_41_2_35.jpg',\n",
       " 'EQo_38_2_7.jpg',\n",
       " 'EQo_46_2_40.jpg',\n",
       " 'EQo_61_10_19.jpg',\n",
       " 'EQo_31_67_25.jpg',\n",
       " 'EQo_94_1_37.jpg',\n",
       " 'EQo_62_2_12.jpg',\n",
       " 'EQo_46_6_46.jpg',\n",
       " 'EQo_67_2_14.jpg',\n",
       " 'EQo_31_67_30.jpg',\n",
       " 'EQo_61_8_25.jpg',\n",
       " 'EQo_61_6_19.jpg',\n",
       " 'EQo_76_3_23.jpg',\n",
       " 'EQo_76_9_17.jpg',\n",
       " 'EQo_95_1_40.jpg',\n",
       " 'EQo_67_11_43.jpg',\n",
       " 'EQo_94_6_37.jpg',\n",
       " 'EQo_78_9_5.jpg',\n",
       " 'EQo_97_1_7.jpg',\n",
       " 'EQo_92_7_32.jpg',\n",
       " 'EQo_78_2_11.jpg',\n",
       " 'EQo_102_1_5.jpg',\n",
       " 'EQo_76_9_12.jpg',\n",
       " 'EQo_76_6_8.jpg',\n",
       " 'EQo_95_8_35.jpg',\n",
       " 'EQo_22_1_11.jpg',\n",
       " 'EQo_61_2_26.jpg',\n",
       " 'EQo_92_1_36.jpg',\n",
       " 'EQo_100_1_29.jpg',\n",
       " 'EQo_54_5_16.jpg',\n",
       " 'EQo_98_2_9.jpg',\n",
       " 'EQo_22_1_4.jpg',\n",
       " 'EQo_22_2_14.jpg',\n",
       " 'EQo_78_1_12.jpg',\n",
       " 'EQo_98_9_19.jpg',\n",
       " 'EQo_95_9_32.jpg',\n",
       " 'EQo_97_3_41.jpg',\n",
       " 'EQo_41_1_30.jpg',\n",
       " 'EQo_61_8_4.jpg',\n",
       " 'EQo_46_2_9.jpg',\n",
       " 'EQo_102_1_30.jpg',\n",
       " 'EQo_40_6_23.jpg',\n",
       " 'EQo_95_1_30.jpg',\n",
       " 'EQo_38_2_12.jpg',\n",
       " 'EQo_76_9_29.jpg',\n",
       " 'EQo_97_9_24.jpg',\n",
       " 'EQo_46_6_27.jpg',\n",
       " 'EQo_97_1_38.jpg',\n",
       " 'EQo_67_11_31.jpg',\n",
       " 'EQo_78_9_4.jpg',\n",
       " 'EQo_22_1_24.jpg',\n",
       " 'EQo_80_2_43.jpg',\n",
       " 'EQo_40_2_23.jpg',\n",
       " 'EQo_38_1_12.jpg',\n",
       " 'EQo_40_6_33.jpg',\n",
       " 'EQo_95_9_48.jpg',\n",
       " 'EQo_95_2_31.jpg',\n",
       " 'EQo_80_1_38.jpg',\n",
       " 'EQo_100_2_43.jpg',\n",
       " 'EQo_98_2_21.jpg',\n",
       " 'EQo_54_1_23.jpg',\n",
       " 'EQo_94_6_42.jpg',\n",
       " 'EQo_46_2_19.jpg',\n",
       " 'EQo_54_1_46.jpg',\n",
       " 'EQo_1_8_40.jpg',\n",
       " 'EQo_97_3_54.jpg',\n",
       " 'EQo_46_2_17.jpg',\n",
       " 'EQo_46_2_8.jpg',\n",
       " ...]"
      ]
     },
     "execution_count": 31,
     "metadata": {},
     "output_type": "execute_result"
    }
   ],
   "source": [
    "all_im_name"
   ]
  },
  {
   "cell_type": "code",
   "execution_count": 97,
   "metadata": {
    "collapsed": false
   },
   "outputs": [],
   "source": [
    "import shutil\n"
   ]
  },
  {
   "cell_type": "code",
   "execution_count": 98,
   "metadata": {
    "collapsed": false
   },
   "outputs": [],
   "source": [
    "make_pat_data(data_dir ='/storage/gabriel/VC/Normal_Images/' ,dest_dir ='/storage/gabriel/VC/Normal_Images_New')"
   ]
  },
  {
   "cell_type": "code",
   "execution_count": 46,
   "metadata": {
    "collapsed": false
   },
   "outputs": [],
   "source": [
    "\n",
    "num_class = {i:len(os.listdir('/storage/gabriel/VC/Normal_Images/'+i)) for i in os.listdir('/storage/gabriel/VC/Normal_Images/') if '.ipynb' not in i}"
   ]
  },
  {
   "cell_type": "code",
   "execution_count": 49,
   "metadata": {
    "collapsed": false
   },
   "outputs": [
    {
     "name": "stdout",
     "output_type": "stream",
     "text": [
      "{'A2C': 2743, 'A4C': 4652, 'PLA': 4208}\n"
     ]
    }
   ],
   "source": [
    "print((num_class))"
   ]
  },
  {
   "cell_type": "code",
   "execution_count": 6,
   "metadata": {
    "collapsed": false
   },
   "outputs": [],
   "source": [
    "path = '/storage/gabriel/VC/Normal_Images/'\n",
    "len_arr = [len(os.listdir(path+i)) for i in os.listdir(path)]"
   ]
  },
  {
   "cell_type": "code",
   "execution_count": 7,
   "metadata": {
    "collapsed": false
   },
   "outputs": [
    {
     "name": "stdout",
     "output_type": "stream",
     "text": [
      "[4208, 2743, 4652]\n"
     ]
    }
   ],
   "source": [
    "print(len_arr)"
   ]
  },
  {
   "cell_type": "code",
   "execution_count": 8,
   "metadata": {
    "collapsed": false
   },
   "outputs": [
    {
     "name": "stdout",
     "output_type": "stream",
     "text": [
      "[8 5 3 7 1 4 9]\n",
      "[0 2]\n",
      "[6]\n"
     ]
    }
   ],
   "source": [
    "base_num = 10\n",
    "train_ind = np.random.choice(10,7,replace=False)\n",
    "left_out = [i for i in np.arange(0,10) if i not in train_ind]\n",
    "val_ind = np.random.choice(left_out,2,replace=False)\n",
    "test_ind = [i for i in left_out if i not in val_ind]\n",
    "#print(left_out)\n",
    "print(train_ind)\n",
    "print(val_ind)\n",
    "print(test_ind)"
   ]
  },
  {
   "cell_type": "code",
   "execution_count": null,
   "metadata": {
    "collapsed": false
   },
   "outputs": [
    {
     "name": "stdout",
     "output_type": "stream",
     "text": [
      "here\n",
      "{'test': 2439, 'train': 8199, 'val': 965}\n",
      "('Epoch = ', 0)\n",
      "('lr = ', 0.001)\n",
      "traintrain Loss: 0.0043 Acc: 0.9543\n",
      "[[ 1840.   117.    22.]\n",
      " [   59.  3150.    69.]\n",
      " [   43.    65.  2834.]]\n",
      "valval Loss: 0.0025 Acc: 0.9855\n",
      "[[ 255.    3.    0.]\n",
      " [   5.  364.    6.]\n",
      " [   0.    0.  332.]]\n",
      "('Epoch = ', 1)\n",
      "traintrain Loss: 0.0002 Acc: 0.9996\n",
      "[[  1.97800000e+03   1.00000000e+00   0.00000000e+00]\n",
      " [  0.00000000e+00   3.27700000e+03   1.00000000e+00]\n",
      " [  0.00000000e+00   1.00000000e+00   2.94100000e+03]]\n",
      "valval Loss: 0.0017 Acc: 0.9855\n",
      "[[ 250.    8.    0.]\n",
      " [   0.  372.    3.]\n",
      " [   0.    3.  329.]]\n",
      "('Epoch = ', 2)\n",
      "traintrain Loss: 0.0001 Acc: 0.9999\n",
      "[[  1.97900000e+03   0.00000000e+00   0.00000000e+00]\n",
      " [  0.00000000e+00   3.27700000e+03   1.00000000e+00]\n",
      " [  0.00000000e+00   0.00000000e+00   2.94200000e+03]]\n",
      "valval Loss: 0.0013 Acc: 0.9896\n",
      "[[ 250.    8.    0.]\n",
      " [   0.  373.    2.]\n",
      " [   0.    0.  332.]]\n",
      "('Epoch = ', 3)\n",
      "traintrain Loss: 0.0001 Acc: 1.0000\n",
      "[[ 1979.     0.     0.]\n",
      " [    0.  3278.     0.]\n",
      " [    0.     0.  2942.]]\n",
      "valval Loss: 0.0015 Acc: 0.9886\n",
      "[[ 251.    7.    0.]\n",
      " [   0.  371.    4.]\n",
      " [   0.    0.  332.]]\n",
      "('Epoch = ', 4)\n"
     ]
    }
   ],
   "source": [
    "### samples data into train, test , val\n",
    "import gc\n",
    "gc.collect()\n",
    "for i in range(0,10):\n",
    "    res = models.resnet18(pretrained=True)\n",
    "    res.fc = nn.Linear(res.fc.in_features,3)\n",
    "    #sample_data(eq=True)\n",
    "    data.make_pat_data(data_dir ='/storage/gabriel/VC/Normal_Images/' ,dest_dir ='/storage/gabriel/VC/Normal_Images_New')\n",
    "    obj = model_pip(model_in=res,scale=True,batch_size=30,use_gpu=True,data_path='/storage/gabriel/VC/Normal_Images_New/')\n",
    "    model = obj.train_model(epochs=10)\n",
    "    obj.store_model(f_name='/storage/gabriel/VC/models/saved_model_new_'+str(i)+'_.pth.tar')\n",
    "    del(obj)\n",
    "    #break"
   ]
  },
  {
   "cell_type": "code",
   "execution_count": 100,
   "metadata": {
    "collapsed": false
   },
   "outputs": [
    {
     "name": "stdout",
     "output_type": "stream",
     "text": [
      "here\n",
      "('test accuracy= ', 0.72670157068062824)\n",
      "[[ 286.   89.   66.]\n",
      " [ 169.  658.  182.]\n",
      " [   2.   14.  444.]]\n",
      "here\n",
      "('test accuracy= ', 0.76963350785340312)\n",
      "[[ 251.  150.   40.]\n",
      " [ 102.  763.  144.]\n",
      " [   0.    4.  456.]]\n",
      "here\n",
      "('test accuracy= ', 0.73769633507853405)\n",
      "[[ 292.   77.   72.]\n",
      " [ 102.  665.  242.]\n",
      " [   0.    8.  452.]]\n",
      "here\n",
      "('test accuracy= ', 0.75340314136125652)\n",
      "[[ 299.   75.   67.]\n",
      " [ 137.  684.  188.]\n",
      " [   1.    3.  456.]]\n",
      "here\n",
      "('test accuracy= ', 0.75026178010471201)\n",
      "[[ 261.   99.   81.]\n",
      " [ 123.  722.  164.]\n",
      " [   0.   10.  450.]]\n",
      "here\n",
      "('test accuracy= ', 0.79109947643979062)\n",
      "[[ 293.  114.   34.]\n",
      " [ 142.  773.   94.]\n",
      " [   0.   15.  445.]]\n",
      "here\n",
      "('test accuracy= ', 0.76178010471204194)\n",
      "[[ 273.   98.   70.]\n",
      " [ 110.  724.  175.]\n",
      " [   0.    2.  458.]]\n",
      "here\n",
      "('test accuracy= ', 0.77905759162303667)\n",
      "[[ 268.  108.   65.]\n",
      " [  78.  776.  155.]\n",
      " [   0.   16.  444.]]\n",
      "here\n",
      "('test accuracy= ', 0.75078534031413613)\n",
      "[[ 254.  137.   50.]\n",
      " [ 149.  722.  138.]\n",
      " [   0.    2.  458.]]\n",
      "here\n",
      "('test accuracy= ', 0.75183246073298426)\n",
      "[[ 286.   66.   89.]\n",
      " [ 102.  691.  216.]\n",
      " [   1.    0.  459.]]\n"
     ]
    }
   ],
   "source": [
    "acc = 0\n",
    "\n",
    "for i in range(0,10):\n",
    "    \n",
    "    res = models.resnet18(pretrained=True)\n",
    "    res.fc = nn.Linear(res.fc.in_features,3)\n",
    "    sample_data(eq=True)\n",
    "    obj = model_pip(model_in=res,scale=True,batch_size=30,use_gpu=True,data_path='/storage/gabriel/VC/diseased/')\n",
    "    \n",
    "    obj.load_model(filename='/storage/gabriel/VC/models/saved_model_new_'+str(i)+'_.pth.tar')\n",
    "    obj.test(model_dir='/storage/gabriel/VC/models/',model_name='saved_model_'+'new_'+str(i)+'_.pth.tar',\n",
    "             test_on=True,save_miscl = True,random_crop=False)\n",
    "    \n",
    "    del(obj)\n",
    "    \n",
    " "
   ]
  },
  {
   "cell_type": "code",
   "execution_count": 7,
   "metadata": {
    "collapsed": false
   },
   "outputs": [
    {
     "name": "stdout",
     "output_type": "stream",
     "text": [
      "2502\n"
     ]
    }
   ],
   "source": [
    "print(len(os.listdir('/storage/gabriel/VC/dataset/train/PLA')))"
   ]
  },
  {
   "cell_type": "code",
   "execution_count": 10,
   "metadata": {
    "collapsed": false
   },
   "outputs": [
    {
     "data": {
      "text/plain": [
       "['.ipynb_checkpoints', 'PLA', 'A2C', 'A4C']"
      ]
     },
     "execution_count": 10,
     "metadata": {},
     "output_type": "execute_result"
    }
   ],
   "source": [
    "os.listdir('/storage/gabriel/VC/dataset/train/')"
   ]
  },
  {
   "cell_type": "code",
   "execution_count": 3,
   "metadata": {
    "collapsed": false
   },
   "outputs": [],
   "source": [
    "\n",
    "obj = model_pip(model_in=res,scale=True,batch_size=30,use_gpu=True,data_path='/storage/gabriel/VC/dataset/')\n",
    "#obj1 = model_pip(model_in=res,scale=True,batch_size=100,use_gpu=True,data_path='/storage/gabriel/VC/dataset/')"
   ]
  },
  {
   "cell_type": "code",
   "execution_count": null,
   "metadata": {
    "collapsed": false,
    "scrolled": true
   },
   "outputs": [],
   "source": [
    "#model = obj.train_model(epochs=10)\n",
    "#a,b,c = obj.transform()"
   ]
  },
  {
   "cell_type": "code",
   "execution_count": 5,
   "metadata": {
    "collapsed": false
   },
   "outputs": [],
   "source": [
    "obj.store_model(f_name='/storage/gabriel/VC/models/saved_model.pth.tar')"
   ]
  },
  {
   "cell_type": "code",
   "execution_count": 3,
   "metadata": {
    "collapsed": false
   },
   "outputs": [],
   "source": [
    "res = models.resnet18(pretrained=True)\n",
    "res.fc = nn.Linear(res.fc.in_features,3)\n"
   ]
  },
  {
   "cell_type": "code",
   "execution_count": null,
   "metadata": {
    "collapsed": true
   },
   "outputs": [],
   "source": [
    "### make list of used images\n"
   ]
  },
  {
   "cell_type": "code",
   "execution_count": 4,
   "metadata": {
    "collapsed": false
   },
   "outputs": [],
   "source": [
    "obj = model_pip(res,scale=True,use_gpu=True,batch_size=30,data_path='/storage/gabriel/VC/dataset/')\n",
    "#obj2.train_model()\n",
    "#obj2.store_model(f_name='/data/gabriel/VC/models/saved_model.pth.tar')\n",
    "obj.load_model('/storage/gabriel/VC/models/saved_model.pth.tar')"
   ]
  },
  {
   "cell_type": "code",
   "execution_count": 6,
   "metadata": {
    "collapsed": false
   },
   "outputs": [
    {
     "name": "stdout",
     "output_type": "stream",
     "text": [
      "here\n"
     ]
    }
   ],
   "source": [
    "a,b,c = obj.transform()"
   ]
  },
  {
   "cell_type": "code",
   "execution_count": 56,
   "metadata": {
    "collapsed": false
   },
   "outputs": [
    {
     "name": "stdout",
     "output_type": "stream",
     "text": [
      "0\n"
     ]
    },
    {
     "data": {
      "image/png": "[encoded data removed]",
      "text/plain": [
       "<matplotlib.figure.Figure at 0x7fd98eced4d0>"
      ]
     },
     "metadata": {},
     "output_type": "display_data"
    },
    {
     "data": {
      "text/plain": [
       "(<matplotlib.image.AxesImage at 0x7fd98ebbeb50>, None)"
      ]
     },
     "execution_count": 56,
     "metadata": {},
     "output_type": "execute_result"
    }
   ],
   "source": [
    "\n",
    "ind=3000\n",
    "print(a['train'].__getitem__(ind)[1])\n",
    "plt.imshow(np.array([0.229,0.224,0.225])*a['train'].__getitem__(ind)[0].numpy().transpose(1,2,0)+np.array([0.485,0.456,0.406])),plt.show()"
   ]
  },
  {
   "cell_type": "code",
   "execution_count": 201,
   "metadata": {
    "collapsed": false
   },
   "outputs": [],
   "source": [
    "#help(a)"
   ]
  },
  {
   "cell_type": "code",
   "execution_count": null,
   "metadata": {
    "collapsed": false
   },
   "outputs": [],
   "source": [
    "used_list = []\n",
    "train_list = []\n",
    "test_list = []\n",
    "val_list = []\n",
    "used_dir = []\n",
    "count = 0\n",
    "for i,j,k in os.walk('/storage/gabriel/VC/dataset/'):\n",
    "    print(i)\n",
    "    print(k)\n",
    "    if(len(k)>0 and '.jpg'in k[0]  ):\n",
    "        used_list+=k\n",
    "        \n",
    "        for l in used_list[count:]:\n",
    "            used_dir.append(i+'/'+l)\n",
    "        count+=len(k)\n",
    "all_set = []\n",
    "all_dir = []\n",
    "count = 0\n",
    "for i,j,k in os.walk('/storage/gabriel/VC/Normal_Images/'):\n",
    "    \n",
    "    if(len(k)>0 and '.jpg' in k[0]):\n",
    "        \n",
    "        all_set+=k\n",
    "       \n",
    "        for l in all_set[count:]:\n",
    "            #print(l)\n",
    "            all_dir.append(i+'/'+l)\n",
    "        count+=len(k)\n",
    "\n",
    "def find_last(s,q):\n",
    "    return [i for i,j in enumerate(s) if j==q][-1]\n",
    "def find_last_two(s,q):\n",
    "    return [i for i,j in enumerate(s) if j==q][-2:]\n",
    "\n",
    "for i in all_dir:\n",
    "    \n",
    "    if i[find_all(i,'/')+1:] in used_list:\n",
    "        a+=1\n",
    "    else:\n",
    "        left_out.append(i)        \n",
    "os.system('rm /storage/gabriel/VC/not_dataset/test/PLA/*')\n",
    "os.system('rm /storage/gabriel/VC/not_dataset/test/A2C/*')\n",
    "os.system('rm /storage/gabriel/VC/not_dataset/test/A4C/*')\n",
    "for i in left_out:\n",
    "    if ('PLA') in i:\n",
    "        \n",
    "        shutil.copy(i,'/storage/gabriel/VC/not_dataset/test/PLA/')\n",
    "    if ('A2C') in i:\n",
    "        \n",
    "        shutil.copy(i,'/storage/gabriel/VC/not_dataset/test/A2C/')\n",
    "    if ('A4C') in i:\n",
    "        \n",
    "        shutil.copy(i,'/storage/gabriel/VC/not_dataset/test/A4C/')\n",
    "\n",
    "#     if(len(k)>0 and 'test' in i):\n",
    "#         test_list+=k\n",
    "#     if(len(k)>0 and 'train' in i):\n",
    "#         train_list+=k\n",
    "#     if(len(k)>0 and 'val' in i):\n",
    "#         val_list+=k\n",
    "    "
   ]
  },
  {
   "cell_type": "code",
   "execution_count": 159,
   "metadata": {
    "collapsed": false
   },
   "outputs": [
    {
     "name": "stdout",
     "output_type": "stream",
     "text": [
      "825\n",
      "5760\n",
      "8229\n",
      "8229\n"
     ]
    }
   ],
   "source": [
    "print(len(test_list))\n",
    "print(len(train_list))\n",
    "print(len(val_list)+len(train_list)+len(test_list))\n",
    "print(len(used_list))"
   ]
  },
  {
   "cell_type": "code",
   "execution_count": 172,
   "metadata": {
    "collapsed": false
   },
   "outputs": [
    {
     "name": "stdout",
     "output_type": "stream",
     "text": [
      "8229\n"
     ]
    }
   ],
   "source": [
    "print(len(used_dir))"
   ]
  },
  {
   "cell_type": "code",
   "execution_count": 173,
   "metadata": {
    "collapsed": false
   },
   "outputs": [
    {
     "name": "stdout",
     "output_type": "stream",
     "text": [
      "/storage/gabriel/VC/dataset/test/PLA/EQo_32_1_5.jpg\n"
     ]
    }
   ],
   "source": [
    "print(used_dir[0])"
   ]
  },
  {
   "cell_type": "code",
   "execution_count": 88,
   "metadata": {
    "collapsed": true
   },
   "outputs": [],
   "source": [
    "used_set = set(used_list)\n",
    "val_set = set(val_list)\n",
    "train_set = set(train_list)\n",
    "test_set = set(test_list)"
   ]
  },
  {
   "cell_type": "code",
   "execution_count": 94,
   "metadata": {
    "collapsed": false
   },
   "outputs": [
    {
     "name": "stdout",
     "output_type": "stream",
     "text": [
      "set([])\n",
      "set([])\n",
      "set([])\n"
     ]
    }
   ],
   "source": [
    "print(val_set.intersection(train_set))\n",
    "print(test_set.intersection(train_set))\n",
    "print(test_set.intersection(val_set))"
   ]
  },
  {
   "cell_type": "code",
   "execution_count": 160,
   "metadata": {
    "collapsed": false
   },
   "outputs": [],
   "source": [
    "all_set = []\n",
    "all_dir = []\n",
    "count = 0\n",
    "for i,j,k in os.walk('/storage/gabriel/VC/Normal_Images/'):\n",
    "    \n",
    "    if(len(k)>0 and '.jpg' in k[0]):\n",
    "        \n",
    "        all_set+=k\n",
    "       \n",
    "        for l in all_set[count:]:\n",
    "            #print(l)\n",
    "            all_dir.append(i+'/'+l)\n",
    "        count+=len(k)"
   ]
  },
  {
   "cell_type": "code",
   "execution_count": 162,
   "metadata": {
    "collapsed": false
   },
   "outputs": [
    {
     "name": "stdout",
     "output_type": "stream",
     "text": [
      "4652\n",
      "4208\n",
      "2743\n"
     ]
    }
   ],
   "source": [
    "print(len(os.listdir('/storage/gabriel/VC/Normal_Images/A4C')))\n",
    "print(len(os.listdir('/storage/gabriel/VC/Normal_Images/PLA')))\n",
    "print(len(os.listdir('/storage/gabriel/VC/Normal_Images/A2C')))"
   ]
  },
  {
   "cell_type": "code",
   "execution_count": 161,
   "metadata": {
    "collapsed": false
   },
   "outputs": [
    {
     "name": "stdout",
     "output_type": "stream",
     "text": [
      "11603\n",
      "11603\n"
     ]
    }
   ],
   "source": [
    "print(4652+4208+2743)\n",
    "print(len(all_dir))"
   ]
  },
  {
   "cell_type": "code",
   "execution_count": 163,
   "metadata": {
    "collapsed": false
   },
   "outputs": [
    {
     "name": "stdout",
     "output_type": "stream",
     "text": [
      "8229\n"
     ]
    }
   ],
   "source": [
    "print(len(used_dir))\n"
   ]
  },
  {
   "cell_type": "code",
   "execution_count": 174,
   "metadata": {
    "collapsed": false
   },
   "outputs": [
    {
     "name": "stdout",
     "output_type": "stream",
     "text": [
      "/storage/gabriel/VC/Normal_Images/PLA/EQo_31_1_8.jpg\n"
     ]
    }
   ],
   "source": [
    "print(all_dir[0])"
   ]
  },
  {
   "cell_type": "code",
   "execution_count": 175,
   "metadata": {
    "collapsed": false
   },
   "outputs": [
    {
     "name": "stdout",
     "output_type": "stream",
     "text": [
      "/storage/gabriel/VC/dataset/test/PLA/EQo_32_1_5.jpg\n"
     ]
    }
   ],
   "source": [
    "print(used_dir[0])"
   ]
  },
  {
   "cell_type": "code",
   "execution_count": 197,
   "metadata": {
    "collapsed": false
   },
   "outputs": [],
   "source": [
    "#print(used_list)"
   ]
  },
  {
   "cell_type": "code",
   "execution_count": 189,
   "metadata": {
    "collapsed": false
   },
   "outputs": [
    {
     "name": "stdout",
     "output_type": "stream",
     "text": [
      "EQo_22_42_53.jpg\n"
     ]
    }
   ],
   "source": [
    "print(i[find_all(i,'/')+1:])"
   ]
  },
  {
   "cell_type": "code",
   "execution_count": 191,
   "metadata": {
    "collapsed": true
   },
   "outputs": [],
   "source": [
    "if ('EQo_22_42_53.jpg' in used_list):\n",
    "    print 'aa'"
   ]
  },
  {
   "cell_type": "code",
   "execution_count": 190,
   "metadata": {
    "collapsed": false
   },
   "outputs": [
    {
     "name": "stdout",
     "output_type": "stream",
     "text": [
      "EQo_32_1_5.jpg\n"
     ]
    }
   ],
   "source": [
    "print(used_list[0])"
   ]
  },
  {
   "cell_type": "code",
   "execution_count": 193,
   "metadata": {
    "collapsed": false
   },
   "outputs": [
    {
     "name": "stdout",
     "output_type": "stream",
     "text": [
      "3374\n",
      "11603\n"
     ]
    }
   ],
   "source": [
    "left_out = []\n",
    "a=1\n",
    "def find_last(s,q):\n",
    "    return [i for i,j in enumerate(s) if j==q][-1]\n",
    "def find_last_two(s,q):\n",
    "    return [i for i,j in enumerate(s) if j==q][-2:]\n",
    "\n",
    "for i in all_dir:\n",
    "    \n",
    "    if i[find_all(i,'/')+1:] in used_list:\n",
    "        a+=1\n",
    "    else:\n",
    "        #print(i[find_all(i,'/')+1:])\n",
    "        left_out.append(i)\n",
    "print(len(left_out))\n",
    "print(len(all_dir))"
   ]
  },
  {
   "cell_type": "code",
   "execution_count": 199,
   "metadata": {
    "collapsed": false
   },
   "outputs": [],
   "source": [
    "import shutil\n",
    "for i in left_out:\n",
    "    if ('PLA') in i:\n",
    "        \n",
    "        shutil.copy(i,'/storage/gabriel/VC/not_dataset/test/PLA/')\n",
    "    if ('A2C') in i:\n",
    "        \n",
    "        shutil.copy(i,'/storage/gabriel/VC/not_dataset/test/A2C/')\n",
    "    if ('A4C') in i:\n",
    "        \n",
    "        shutil.copy(i,'/storage/gabriel/VC/not_dataset/test/A4C/')\n",
    "                  "
   ]
  },
  {
   "cell_type": "code",
   "execution_count": 196,
   "metadata": {
    "collapsed": false
   },
   "outputs": [
    {
     "name": "stdout",
     "output_type": "stream",
     "text": [
      "11603\n"
     ]
    }
   ],
   "source": [
    "print(len(used_dir)+len(left_out))"
   ]
  },
  {
   "cell_type": "code",
   "execution_count": 200,
   "metadata": {
    "collapsed": false
   },
   "outputs": [],
   "source": [
    "#print(tt)"
   ]
  },
  {
   "cell_type": "code",
   "execution_count": 115,
   "metadata": {
    "collapsed": false
   },
   "outputs": [],
   "source": [
    "#print(all_dir)"
   ]
  },
  {
   "cell_type": "code",
   "execution_count": 99,
   "metadata": {
    "collapsed": false
   },
   "outputs": [],
   "source": [
    "\n",
    "#print(all_set)"
   ]
  },
  {
   "cell_type": "code",
   "execution_count": 100,
   "metadata": {
    "collapsed": false
   },
   "outputs": [],
   "source": [
    "#print(used_list)"
   ]
  },
  {
   "cell_type": "code",
   "execution_count": null,
   "metadata": {
    "collapsed": false
   },
   "outputs": [],
   "source": [
    "res = models.resnet18(pretrained=True)\n",
    "res.fc = nn.Linear(res.fc.in_features,3)\n",
    "obj = model_pip(res,use_gpu=True,batch_size=3,data_path='/storage/gabriel/VC/dataset/',scale=False\n",
    "               )\n",
    "#obj2.train_model()\n",
    "#obj2.store_model(f_name='/data/gabriel/VC/models/saved_model.pth.tar')\n",
    "#obj.load_model('/storage/gabriel/VC/models/saved_model.pth.tar',)"
   ]
  },
  {
   "cell_type": "code",
   "execution_count": 1,
   "metadata": {
    "collapsed": false
   },
   "outputs": [
    {
     "data": {
      "text/plain": [
       "'111'"
      ]
     },
     "execution_count": 1,
     "metadata": {},
     "output_type": "execute_result"
    }
   ],
   "source": [
    "a = '111.2'\n",
    "a[:a.find('.2')]"
   ]
  },
  {
   "cell_type": "code",
   "execution_count": null,
   "metadata": {
    "collapsed": false
   },
   "outputs": [
    {
     "name": "stdout",
     "output_type": "stream",
     "text": [
      "here2\n",
      "{'test': 825, 'train': 5760, 'val': 1644}\n",
      "('Epoch = ', 0)\n",
      "('lr = ', 0.001)\n"
     ]
    }
   ],
   "source": [
    "obj.train_model(epochs=30)\n",
    "obj.store_model(f_name='/data/gabriel/VC/models/saved_model_big.pth.tar')"
   ]
  },
  {
   "cell_type": "code",
   "execution_count": 3,
   "metadata": {
    "collapsed": false
   },
   "outputs": [
    {
     "name": "stdout",
     "output_type": "stream",
     "text": [
      "(3, 3)\n",
      "('test accuracy= ', 0.99347954949614703)\n",
      "[[    0.     0.     0.]\n",
      " [    8.  1891.    10.]\n",
      " [    2.     2.  1461.]]\n"
     ]
    }
   ],
   "source": [
    "obj.test(model_dir='/storage/gabriel/VC/models/',n=None,test_on=True)"
   ]
  },
  {
   "cell_type": "code",
   "execution_count": 9,
   "metadata": {
    "collapsed": false
   },
   "outputs": [
    {
     "data": {
      "text/plain": [
       "{'test': 825, 'train': 5760, 'val': 1644}"
      ]
     },
     "execution_count": 9,
     "metadata": {},
     "output_type": "execute_result"
    }
   ],
   "source": [
    "c"
   ]
  },
  {
   "cell_type": "code",
   "execution_count": 5,
   "metadata": {
    "collapsed": false
   },
   "outputs": [
    {
     "name": "stdout",
     "output_type": "stream",
     "text": [
      "('test accuracy= ', 0.99272727272727268)\n",
      "[[ 272.    3.    0.]\n",
      " [   1.  272.    2.]\n",
      " [   0.    0.  275.]]\n"
     ]
    }
   ],
   "source": [
    "obj.test(model_dir='/storage/gabriel/VC/models/',n=None)"
   ]
  },
  {
   "cell_type": "code",
   "execution_count": null,
   "metadata": {
    "collapsed": false
   },
   "outputs": [],
   "source": [
    "for i,j in (b['train']):\n",
    "    print(i.size())\n",
    "    print(j.size())\n",
    "    break"
   ]
  },
  {
   "cell_type": "code",
   "execution_count": 7,
   "metadata": {
    "collapsed": false
   },
   "outputs": [
    {
     "name": "stdout",
     "output_type": "stream",
     "text": [
      "0\n"
     ]
    }
   ],
   "source": [
    "print(11000/(80*2000))"
   ]
  },
  {
   "cell_type": "code",
   "execution_count": null,
   "metadata": {
    "collapsed": true
   },
   "outputs": [],
   "source": [
    "res = models.resnet18(pretrained=True)\n",
    "res.fc = nn.Linear(res.fc.in_features,3)\n",
    "obj = model_pip(res,scale=True,use_gpu=True,batch_size=,data_path='/storage/gabriel/VC/not_dataset/')\n",
    "#obj2.train_model()\n",
    "#obj2.store_model(f_name='/data/gabriel/VC/models/saved_model.pth.tar')\n",
    "obj.load_model('/storage/gabriel/VC/models/saved_model.pth.tar',)"
   ]
  }
 ],
 "metadata": {
  "anaconda-cloud": {},
  "kernelspec": {
   "display_name": "Python 2",
   "language": "python",
   "name": "python2"
  },
  "language_info": {
   "codemirror_mode": {
    "name": "ipython",
    "version": 2
   },
   "file_extension": ".py",
   "mimetype": "text/x-python",
   "name": "python",
   "nbconvert_exporter": "python",
   "pygments_lexer": "ipython2",
   "version": "2.7.13"
  }
 },
 "nbformat": 4,
 "nbformat_minor": 1
}
