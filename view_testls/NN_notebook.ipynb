{
 "cells": [
  {
   "cell_type": "code",
   "execution_count": 1,
   "metadata": {
    "collapsed": false
   },
   "outputs": [],
   "source": [
    "import matplotlib.pyplot as plt\n",
    "\n",
    "import  torch.utils.data as data_utils\n",
    "import torch\n",
    "import torch.nn as nn\n",
    "from torchvision.models import inception\n",
    "from torchvision.models import Inception3\n",
    "import numpy as np\n",
    "from torch.autograd import Variable\n",
    "import torch.nn.functional as F\n",
    "\n",
    "from torchvision import datasets,models,transforms\n",
    "import torch.optim as optim\n",
    "\n",
    "\n",
    "import numpy as np\n",
    "import random\n",
    "import gc\n",
    "\n",
    "import copy\n",
    "import torch\n",
    "import numpy as np\n",
    "from torch.autograd import Variable\n",
    "import sys\n",
    "import os\n",
    "import scipy\n",
    "import cv2\n",
    "from PIL import Image\n",
    "from nndev import model_pip"
   ]
  },
  {
   "cell_type": "code",
   "execution_count": null,
   "metadata": {
    "collapsed": false
   },
   "outputs": [],
   "source": [
    "res_tf = models.resnet18(pretrained=True)\n",
    "alex_tf = models.alexnet(pretrained=True)"
   ]
  },
  {
   "cell_type": "code",
   "execution_count": null,
   "metadata": {
    "collapsed": true
   },
   "outputs": [],
   "source": [
    "res_new = models.resnet18(pretrained=False)\n",
    "alex_new = models.alexnet(pretrained=False)"
   ]
  },
  {
   "cell_type": "code",
   "execution_count": 2,
   "metadata": {
    "collapsed": false
   },
   "outputs": [],
   "source": [
    "res = models.resnet18(pretrained=True)\n",
    "res.fc = nn.Linear(res.fc.in_features,15)"
   ]
  },
  {
   "cell_type": "code",
   "execution_count": 35,
   "metadata": {
    "collapsed": false
   },
   "outputs": [],
   "source": []
  },
  {
   "cell_type": "code",
   "execution_count": 6,
   "metadata": {
    "collapsed": false
   },
   "outputs": [],
   "source": [
    "\n",
    "obj = model_pip(res,scale=True,batch_size=30,epochs=1,use_gpu=False)\n"
   ]
  },
  {
   "cell_type": "code",
   "execution_count": 7,
   "metadata": {
    "collapsed": false
   },
   "outputs": [
    {
     "name": "stdout",
     "output_type": "stream",
     "text": [
      "{'train': 90, 'val': 240}\n",
      "Epoch =  0\n",
      "lr =  0.001\n",
      "traintrain Loss: 0.0950 Acc: 0.1111\n",
      "[[ 0.  0.  2.  0.  0.  0.  0.  0.  1.  0.  1.  0.  1.  0.  1.]\n",
      " [ 0.  0.  2.  0.  0.  0.  0.  0.  0.  0.  0.  0.  3.  0.  1.]\n",
      " [ 0.  0.  2.  0.  0.  0.  0.  0.  1.  0.  0.  0.  3.  0.  0.]\n",
      " [ 0.  0.  0.  0.  0.  0.  0.  0.  2.  0.  0.  0.  4.  0.  0.]\n",
      " [ 0.  0.  3.  0.  0.  0.  0.  0.  3.  0.  0.  0.  0.  0.  0.]\n",
      " [ 0.  0.  2.  0.  0.  0.  0.  0.  0.  0.  0.  0.  3.  0.  1.]\n",
      " [ 0.  0.  0.  0.  0.  0.  0.  0.  6.  0.  0.  0.  0.  0.  0.]\n",
      " [ 0.  0.  2.  0.  0.  0.  0.  0.  0.  0.  1.  0.  1.  0.  2.]\n",
      " [ 0.  0.  3.  0.  0.  0.  0.  0.  1.  0.  0.  0.  2.  0.  0.]\n",
      " [ 0.  0.  4.  0.  0.  0.  0.  0.  1.  0.  0.  0.  1.  0.  0.]\n",
      " [ 0.  0.  0.  0.  0.  0.  0.  0.  0.  0.  1.  0.  5.  0.  0.]\n",
      " [ 0.  0.  1.  0.  0.  0.  0.  0.  4.  0.  1.  0.  0.  0.  0.]\n",
      " [ 0.  0.  0.  0.  0.  0.  0.  0.  0.  0.  0.  0.  6.  0.  0.]\n",
      " [ 0.  0.  0.  0.  0.  0.  0.  0.  2.  0.  0.  0.  0.  0.  4.]\n",
      " [ 0.  0.  2.  0.  0.  0.  0.  1.  0.  0.  0.  0.  3.  0.  0.]]\n",
      "valval Loss: 0.0891 Acc: 0.1333\n",
      "[[  0.   0.   0.   2.   0.   0.   0.   0.  14.   0.   0.   0.   0.   0.\n",
      "    0.]\n",
      " [  0.   0.   0.   0.   0.   0.   0.   0.   7.   0.   9.   0.   0.   0.\n",
      "    0.]\n",
      " [  0.   0.   0.   0.   0.   0.   0.   0.  12.   0.   4.   0.   0.   0.\n",
      "    0.]\n",
      " [  0.   0.   0.   0.   0.   0.   0.   0.  10.   0.   6.   0.   0.   0.\n",
      "    0.]\n",
      " [  0.   0.   0.   0.   0.   0.   0.   0.  16.   0.   0.   0.   0.   0.\n",
      "    0.]\n",
      " [  0.   0.   0.   0.   0.   0.   0.   0.  10.   0.   6.   0.   0.   0.\n",
      "    0.]\n",
      " [  0.   0.   0.   0.   0.   0.   0.   0.  16.   0.   0.   0.   0.   0.\n",
      "    0.]\n",
      " [  0.   0.   0.   0.   0.   0.   0.   0.   0.   0.  16.   0.   0.   0.\n",
      "    0.]\n",
      " [  0.   0.   0.   0.   0.   0.   0.   0.  16.   0.   0.   0.   0.   0.\n",
      "    0.]\n",
      " [  0.   0.   0.   0.   0.   0.   0.   0.  14.   0.   2.   0.   0.   0.\n",
      "    0.]\n",
      " [  0.   0.   0.   0.   0.   0.   0.   0.   0.   0.  16.   0.   0.   0.\n",
      "    0.]\n",
      " [  0.   0.   0.   0.   0.   0.   0.   0.   0.   0.  16.   0.   0.   0.\n",
      "    0.]\n",
      " [  0.   0.   0.   0.   0.   0.   0.   0.   0.   0.  16.   0.   0.   0.\n",
      "    0.]\n",
      " [  0.   0.   0.   0.   0.   0.   0.   0.  16.   0.   0.   0.   0.   0.\n",
      "    0.]\n",
      " [  0.   0.   0.   0.   0.   0.   0.   0.  16.   0.   0.   0.   0.   0.\n",
      "    0.]]\n",
      "0.13333333333333333\n",
      "0\n"
     ]
    }
   ],
   "source": [
    "model = obj.train_model()\n",
    "#a,b,c = obj.transform()"
   ]
  },
  {
   "cell_type": "code",
   "execution_count": 8,
   "metadata": {
    "collapsed": false
   },
   "outputs": [],
   "source": [
    "obj.store_model(f_name='/data/gabriel/VC/models/saved_model.pth.tar')"
   ]
  },
  {
   "cell_type": "code",
   "execution_count": 9,
   "metadata": {
    "collapsed": false
   },
   "outputs": [],
   "source": [
    "res2 = models.resnet18(pretrained=True)\n",
    "res2.fc = nn.Linear(res2.fc.in_features,15)\n"
   ]
  },
  {
   "cell_type": "code",
   "execution_count": 10,
   "metadata": {
    "collapsed": false
   },
   "outputs": [],
   "source": [
    "obj2 = model_pip(res2,scale=True,use_gpu=False,batch_size=3,epochs=4)\n",
    "#obj2.train_model()\n",
    "#obj2.store_model(f_name='/data/gabriel/VC/models/saved_model.pth.tar')\n",
    "obj2.load_model('/data/gabriel/VC/models/saved_model.pth.tar')"
   ]
  },
  {
   "cell_type": "code",
   "execution_count": 11,
   "metadata": {
    "collapsed": false
   },
   "outputs": [
    {
     "name": "stdout",
     "output_type": "stream",
     "text": [
      "[[ 0.  0.  0.  0.  0.  0.  0.  0.  0.  0.  0.  0.  0.  0.  0.]\n",
      " [ 0.  0.  0.  0.  0.  0.  0.  0.  0.  0.  0.  0.  0.  0.  0.]\n",
      " [ 0.  0.  0.  0.  0.  0.  0.  0.  0.  0.  1.  0.  0.  0.  0.]\n",
      " [ 0.  0.  0.  0.  0.  0.  0.  0.  0.  0.  0.  0.  0.  0.  0.]\n",
      " [ 0.  0.  0.  0.  0.  0.  0.  0.  0.  0.  0.  0.  0.  0.  0.]\n",
      " [ 0.  0.  0.  0.  0.  0.  0.  0.  0.  0.  0.  0.  0.  0.  0.]\n",
      " [ 0.  0.  0.  0.  0.  0.  0.  0.  0.  0.  0.  0.  0.  0.  0.]\n",
      " [ 0.  0.  0.  0.  0.  0.  0.  0.  0.  0.  0.  0.  0.  0.  0.]\n",
      " [ 0.  0.  0.  0.  0.  0.  0.  0.  0.  0.  0.  0.  0.  0.  0.]\n",
      " [ 0.  0.  0.  0.  0.  0.  0.  0.  0.  0.  0.  0.  0.  0.  0.]\n",
      " [ 0.  0.  0.  0.  0.  0.  0.  0.  0.  0.  1.  0.  0.  0.  0.]\n",
      " [ 0.  0.  0.  0.  0.  0.  0.  0.  0.  0.  0.  0.  0.  0.  0.]\n",
      " [ 0.  0.  0.  0.  0.  0.  0.  0.  0.  0.  0.  0.  0.  0.  0.]\n",
      " [ 0.  0.  0.  0.  0.  0.  0.  0.  0.  0.  1.  0.  0.  0.  0.]\n",
      " [ 0.  0.  0.  0.  0.  0.  0.  0.  0.  0.  0.  0.  0.  0.  0.]]\n",
      "0.11666666666666667\n"
     ]
    }
   ],
   "source": [
    "obj2.test(model_dir='/data/gabriel/VC/models/',n=None)"
   ]
  },
  {
   "cell_type": "code",
   "execution_count": null,
   "metadata": {
    "collapsed": false
   },
   "outputs": [],
   "source": [
    "for i,j in (b['train']):\n",
    "    print(i.size())\n",
    "    print(j.size())\n",
    "    break"
   ]
  }
 ],
 "metadata": {
  "anaconda-cloud": {},
  "kernelspec": {
   "display_name": "Python [conda root]",
   "language": "python",
   "name": "conda-root-py"
  },
  "language_info": {
   "codemirror_mode": {
    "name": "ipython",
    "version": 3
   },
   "file_extension": ".py",
   "mimetype": "text/x-python",
   "name": "python",
   "nbconvert_exporter": "python",
   "pygments_lexer": "ipython3",
   "version": "3.6.0"
  }
 },
 "nbformat": 4,
 "nbformat_minor": 1
}
